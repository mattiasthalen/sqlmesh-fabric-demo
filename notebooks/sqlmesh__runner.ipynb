{
 "cells": [
  {
   "cell_type": "markdown",
   "id": "462324a1-fa87-4bb3-b5a1-ecf121c8da19",
   "metadata": {
    "microsoft": {
     "language": "python",
     "language_group": "jupyter_python"
    },
    "nteract": {
     "transient": {
      "deleting": false
     }
    }
   },
   "source": [
    "SQLMesh Runner"
   ]
  },
  {
   "cell_type": "markdown",
   "id": "47a09153-0da0-4e44-bf75-11558e98e0e8",
   "metadata": {
    "microsoft": {
     "language": "python",
     "language_group": "jupyter_python"
    },
    "nteract": {
     "transient": {
      "deleting": false
     }
    }
   },
   "source": [
    "## Install Dependencies"
   ]
  },
  {
   "cell_type": "code",
   "execution_count": null,
   "id": "034e1ac4-98ec-4de0-bbc9-74d368a25d24",
   "metadata": {
    "microsoft": {
     "language": "python",
     "language_group": "jupyter_python"
    }
   },
   "outputs": [],
   "source": [
    "%pip install \"sqlmesh[fabric,mssql]\""
   ]
  },
  {
   "cell_type": "markdown",
   "id": "858947f6-cf7d-4757-83c7-85c13de91f6b",
   "metadata": {
    "microsoft": {
     "language": "python",
     "language_group": "jupyter_python"
    },
    "nteract": {
     "transient": {
      "deleting": false
     }
    }
   },
   "source": [
    "## Set Environment Vars"
   ]
  },
  {
   "cell_type": "markdown",
   "id": "d98964a4-9b69-4660-9365-7bc117742b73",
   "metadata": {
    "microsoft": {
     "language": "python",
     "language_group": "jupyter_python"
    },
    "nteract": {
     "transient": {
      "deleting": false
     }
    }
   },
   "source": [
    "### Load From KeyVault"
   ]
  },
  {
   "cell_type": "code",
   "execution_count": null,
   "id": "2ac6562e-7f5d-458e-9e8c-0154d93849af",
   "metadata": {
    "microsoft": {
     "language": "python",
     "language_group": "jupyter_python"
    }
   },
   "outputs": [],
   "source": [
    "import os\n",
    "\n",
    "keyvault = \"mattiasthalen-fabric\"\n",
    "\n",
    "credentials = [\n",
    "    \"CREDENTIALS__AZURE_TENANT_ID\",\n",
    "    \"CREDENTIALS__AZURE_CLIENT_ID\",\n",
    "    \"CREDENTIALS__AZURE_CLIENT_SECRET\",\n",
    "]\n",
    "\n",
    "for credential in credentials:\n",
    "    secret = credential.replace(\"_\", \"-\")\n",
    "    value = notebookutils.credentials.getSecret(f\"https://{keyvault}.vault.azure.net/\", secret)\n",
    "    os.environ[credential] = value\n",
    "\n",
    "    print(f\"{credential} = {os.getenv(credential)}\")"
   ]
  },
  {
   "cell_type": "markdown",
   "id": "a0d9c5ec-430d-43f9-8eef-402b4514b510",
   "metadata": {
    "microsoft": {
     "language": "python",
     "language_group": "jupyter_python"
    },
    "nteract": {
     "transient": {
      "deleting": false
     }
    }
   },
   "source": [
    "### Load From Workspace"
   ]
  },
  {
   "cell_type": "code",
   "execution_count": null,
   "id": "87dc999f-0ea4-4c7c-8f3b-d1aaa32f7925",
   "metadata": {
    "microsoft": {
     "language": "python",
     "language_group": "jupyter_python"
    }
   },
   "outputs": [],
   "source": [
    "import sempy.fabric as fabric\n",
    "import os\n",
    "import pandas as pd\n",
    "\n",
    "state__item_name = \"sqlmesh__state\"\n",
    "lakehouse__item_name = \"landing_zone\"\n",
    "\n",
    "client = fabric.FabricRestClient()\n",
    "\n",
    "# Get workspace id and items\n",
    "workspace_id = fabric.get_workspace_id()\n",
    "workspace__response = client.get(f\"/v1/workspaces/{workspace_id}/items\")\n",
    "workspace__items = pd.json_normalize(workspace__response.json()['value'])\n",
    "\n",
    "# Get state endpoint and database name\n",
    "state__items = workspace__items[workspace__items[\"displayName\"] == state__item_name]\n",
    "state__item_id = state__items[state__items[\"type\"] == \"SQLDatabase\"].iloc[0, 0]\n",
    "\n",
    "state__response = client.get(f\"/v1/workspaces/{workspace_id}/sqlDatabases/{state__item_id}\")\n",
    "state__json = state__response.json()\n",
    "state__database = state__json[\"properties\"][\"databaseName\"]\n",
    "state__endpoint = state__json[\"properties\"][\"serverFqdn\"].split(\",\")[0]\n",
    "\n",
    "# Get warehouse endpoint\n",
    "warehouse__endpoint = state__endpoint.replace(\".database.\", \".datawarehouse.\")\n",
    "\n",
    "# Set env vars\n",
    "vars = {\n",
    "    \"FABRIC__WORKSPACE_ID\": workspace_id,\n",
    "    \"FABRIC__WAREHOUSE_ENDPOINT\": warehouse__endpoint,\n",
    "    \"FABRIC__STATE_ENDPOINT\": state__endpoint,\n",
    "    \"FABRIC__STATE_DATABASE\": state__database,\n",
    "}\n",
    "\n",
    "for name, value in vars.items():\n",
    "    if not value:\n",
    "        print(f\"Null value for {name}\")\n",
    "    \n",
    "    if value:\n",
    "        os.environ[name] = value\n",
    "        print(f\"Value set for {name}\")"
   ]
  },
  {
   "cell_type": "markdown",
   "id": "876a6dd0-feec-4ea0-9448-d4e6bf09f31f",
   "metadata": {
    "microsoft": {
     "language": "python",
     "language_group": "jupyter_python"
    },
    "nteract": {
     "transient": {
      "deleting": false
     }
    }
   },
   "source": [
    "## Sync Codebase"
   ]
  },
  {
   "cell_type": "code",
   "execution_count": null,
   "id": "db701483-943f-42d1-98e6-d58f5101ed8e",
   "metadata": {
    "jupyter": {
     "outputs_hidden": false,
     "source_hidden": false
    },
    "microsoft": {
     "language": "python",
     "language_group": "jupyter_python"
    },
    "nteract": {
     "transient": {
      "deleting": false
     }
    }
   },
   "outputs": [],
   "source": [
    "import git\n",
    "\n",
    "organization = \"mattiasthalen\"\n",
    "repo_name = \"sqlmesh-fabric-demo\"\n",
    "\n",
    "url = f\"https://github.com/{organization}/{repo_name}.git\"\n",
    "\n",
    "branch = \"main\"\n",
    "code_path = f\"/lakehouse/default/Files/{repo_name}\"\n",
    "\n",
    "try:\n",
    "    repo = git.Repo.clone_from(\n",
    "        url=url,\n",
    "        to_path=code_path,\n",
    "        branch=branch,\n",
    "        depth=1,\n",
    "        single_branch=True\n",
    "    )\n",
    "\n",
    "    print(f\"Cloned repo to {code_path}\")\n",
    "\n",
    "except git.GitCommandError as e:\n",
    "    if e.status == 128:\n",
    "        repo = git.Repo(code_path)\n",
    "        origin = repo.remotes.origin\n",
    "        repo.git.reset('--hard', f'origin/{branch}')\n",
    "        origin.pull(branch)\n",
    "\n",
    "        print(\"Pulled latest changes from repo\")\n",
    "        \n",
    "    else:\n",
    "        raise"
   ]
  },
  {
   "cell_type": "markdown",
   "id": "e673f7ae-c46f-43af-b6f5-c0d0919cd48c",
   "metadata": {
    "microsoft": {
     "language": "python",
     "language_group": "jupyter_python"
    },
    "nteract": {
     "transient": {
      "deleting": false
     }
    }
   },
   "source": [
    "## Run SQLMesh"
   ]
  },
  {
   "cell_type": "code",
   "execution_count": null,
   "id": "d446b391-9242-4568-91e9-5c37377ccd3e",
   "metadata": {
    "microsoft": {
     "language": "python",
     "language_group": "jupyter_python"
    }
   },
   "outputs": [],
   "source": [
    "import os\n",
    "import subprocess\n",
    "\n",
    "sqlmesh_path = os.path.join(code_path, \"sqlmesh\")\n",
    "\n",
    "cmd = [\"sqlmesh\", \"plan\", \"prod\", \"--run\", \"--auto-apply\", \"--no-prompts\"]\n",
    "result = subprocess.run(\n",
    "    cmd,\n",
    "    cwd=sqlmesh_path,\n",
    "    text=True,\n",
    "    check=True\n",
    ") "
   ]
  }
 ],
 "metadata": {
  "dependencies": {
   "lakehouse": {
    "default_lakehouse": "2c98cc5e-bff5-4fcb-b459-d698c8d4dea9",
    "default_lakehouse_name": "landing_zone",
    "default_lakehouse_workspace_id": "99a969c7-6acc-45c8-808f-93eea0b7b50e",
    "known_lakehouses": [
     {
      "id": "2c98cc5e-bff5-4fcb-b459-d698c8d4dea9"
     }
    ]
   }
  },
  "kernel_info": {
   "jupyter_kernel_name": "python3.11",
   "name": "jupyter"
  },
  "kernelspec": {
   "display_name": "Jupyter",
   "name": "jupyter"
  },
  "language_info": {
   "name": "python"
  },
  "microsoft": {
   "language": "python",
   "language_group": "jupyter_python",
   "ms_spell_check": {
    "ms_spell_check_language": "en"
   }
  },
  "nteract": {
   "version": "nteract-front-end@1.0.0"
  },
  "spark_compute": {
   "compute_id": "/trident/default",
   "session_options": {
    "conf": {
     "spark.synapse.nbs.session.timeout": "1200000"
    }
   }
  },
  "widgets": {}
 },
 "nbformat": 4,
 "nbformat_minor": 5
}
