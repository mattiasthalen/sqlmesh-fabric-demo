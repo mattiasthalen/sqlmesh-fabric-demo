{
 "cells": [
  {
   "cell_type": "markdown",
   "id": "462324a1-fa87-4bb3-b5a1-ecf121c8da19",
   "metadata": {
    "microsoft": {
     "language": "python",
     "language_group": "jupyter_python"
    },
    "nteract": {
     "transient": {
      "deleting": false
     }
    }
   },
   "source": [
    "# SQLMesh Runner"
   ]
  },
  {
   "cell_type": "markdown",
   "id": "858947f6-cf7d-4757-83c7-85c13de91f6b",
   "metadata": {
    "microsoft": {
     "language": "python",
     "language_group": "jupyter_python"
    },
    "nteract": {
     "transient": {
      "deleting": false
     }
    }
   },
   "source": [
    "## Set env vars"
   ]
  },
  {
   "cell_type": "code",
   "execution_count": null,
   "id": "2ac6562e-7f5d-458e-9e8c-0154d93849af",
   "metadata": {
    "microsoft": {
     "language": "python",
     "language_group": "jupyter_python"
    }
   },
   "outputs": [],
   "source": [
    "import os\n",
    "\n",
    "keyvault = \"mattiasthalen-fabric\"\n",
    "\n",
    "env_vars = [\n",
    "    \"CREDENTIALS__AZURE_TENANT_ID\",\n",
    "    \"CREDENTIALS__AZURE_CLIENT_ID\",\n",
    "    \"CREDENTIALS__AZURE_CLIENT_SECRET\",\n",
    "    \"FABRIC__WORKSPACE_ID\",\n",
    "    \"FABRIC__WAREHOUSE_ENDPOINT\",\n",
    "    \"FABRIC__STATE_ENDPOINT\",\n",
    "    \"FABRIC__STATE_DATABASE\"\n",
    "]\n",
    "\n",
    "for env_var in env_vars:\n",
    "    secret = env_var.replace(\"_\", \"-\")\n",
    "    value = notebookutils.credentials.getSecret(f\"https://{keyvault}.vault.azure.net/\", secret)\n",
    "    os.environ[env_var] = value\n",
    "\n",
    "    print(f\"{env_var} = {os.getenv(env_var)}\")"
   ]
  },
  {
   "cell_type": "markdown",
   "id": "876a6dd0-feec-4ea0-9448-d4e6bf09f31f",
   "metadata": {
    "microsoft": {
     "language": "python",
     "language_group": "jupyter_python"
    },
    "nteract": {
     "transient": {
      "deleting": false
     }
    }
   },
   "source": [
    "## Clone SQLMesh project"
   ]
  },
  {
   "cell_type": "code",
   "execution_count": null,
   "id": "db701483-943f-42d1-98e6-d58f5101ed8e",
   "metadata": {
    "jupyter": {
     "outputs_hidden": false,
     "source_hidden": false
    },
    "microsoft": {
     "language": "python",
     "language_group": "jupyter_python"
    },
    "nteract": {
     "transient": {
      "deleting": false
     }
    }
   },
   "outputs": [],
   "source": [
    "import git\n",
    "\n",
    "organization = \"mattiasthalen\"\n",
    "repo_name = \"sqlmesh-fabric-demo\"\n",
    "\n",
    "url = f\"https://github.com/{organization}/{repo_name}.git\"\n",
    "\n",
    "branch = \"main\"\n",
    "code_path = f\"/lakehouse/default/Files/{repo_name}\"\n",
    "\n",
    "try:\n",
    "    repo = git.Repo.clone_from(\n",
    "        url=url,\n",
    "        to_path=code_path,\n",
    "        branch=branch,\n",
    "        depth=1,\n",
    "        single_branch=True\n",
    "    )\n",
    "\n",
    "    print(f\"Cloned repo to {code_path}\")\n",
    "\n",
    "except git.GitCommandError as e:\n",
    "    if e.status == 128:\n",
    "        repo = git.Repo(code_path)\n",
    "        origin = repo.remotes.origin\n",
    "        repo.git.reset('--hard', f'origin/{branch}')\n",
    "        origin.pull(branch)\n",
    "\n",
    "        print(\"Pulled latest changes from repo\")\n",
    "        \n",
    "    else:\n",
    "        raise"
   ]
  },
  {
   "cell_type": "markdown",
   "id": "c2c8b17b-3c16-4400-8874-63d7d4fa3421",
   "metadata": {
    "microsoft": {
     "language": "python",
     "language_group": "jupyter_python"
    },
    "nteract": {
     "transient": {
      "deleting": false
     }
    }
   },
   "source": [
    "## Run SQLMesh"
   ]
  },
  {
   "cell_type": "code",
   "execution_count": null,
   "id": "8e1dbfa1-3d6e-4235-b778-d0110bcde025",
   "metadata": {
    "microsoft": {
     "language": "python",
     "language_group": "jupyter_python"
    }
   },
   "outputs": [],
   "source": [
    "%pip install \"sqlmesh[fabric,mssql] @ git+https://github.com/TobikoData/sqlmesh.git\""
   ]
  },
  {
   "cell_type": "code",
   "execution_count": null,
   "id": "d446b391-9242-4568-91e9-5c37377ccd3e",
   "metadata": {
    "microsoft": {
     "language": "python",
     "language_group": "jupyter_python"
    }
   },
   "outputs": [],
   "source": [
    "import subprocess\n",
    "\n",
    "cmd = [\"sqlmesh\", \"plan\", \"prod\", \"--run\", \"--auto-apply\", \"--no-prompts\"]\n",
    "result = subprocess.run(\n",
    "    cmd,\n",
    "    cwd=code_path,\n",
    "    text=True,\n",
    "    check=True\n",
    ") "
   ]
  }
 ],
 "metadata": {
  "dependencies": {
   "lakehouse": {
    "default_lakehouse": "ac69302b-c660-491b-abc3-ea5866ec30c9",
    "default_lakehouse_name": "codebase",
    "default_lakehouse_workspace_id": "d3f3ac4f-ecb4-4d28-9352-519ac3b2fc59",
    "known_lakehouses": [
     {
      "id": "ac69302b-c660-491b-abc3-ea5866ec30c9"
     }
    ]
   }
  },
  "kernel_info": {
   "jupyter_kernel_name": "python3.11",
   "name": "jupyter"
  },
  "kernelspec": {
   "display_name": "Jupyter",
   "name": "jupyter"
  },
  "language_info": {
   "name": "python"
  },
  "microsoft": {
   "language": "python",
   "language_group": "jupyter_python",
   "ms_spell_check": {
    "ms_spell_check_language": "en"
   }
  },
  "nteract": {
   "version": "nteract-front-end@1.0.0"
  },
  "spark_compute": {
   "compute_id": "/trident/default",
   "session_options": {
    "conf": {
     "spark.synapse.nbs.session.timeout": "1200000"
    }
   }
  }
 },
 "nbformat": 4,
 "nbformat_minor": 5
}
